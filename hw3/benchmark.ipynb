{
 "cells": [
  {
   "cell_type": "code",
   "execution_count": 55,
   "metadata": {
    "collapsed": true,
    "pycharm": {
     "name": "#%%\n"
    }
   },
   "outputs": [],
   "source": [
    "import redis\n",
    "import json\n",
    "import time"
   ]
  },
  {
   "cell_type": "code",
   "execution_count": 56,
   "outputs": [],
   "source": [
    "redisMaster = redis.Redis(host='localhost', port=40000, decode_responses=True, password='password')\n",
    "redisStandalone = redis.Redis(host='localhost', port=30001, decode_responses=True)"
   ],
   "metadata": {
    "collapsed": false,
    "pycharm": {
     "name": "#%%\n"
    }
   }
  },
  {
   "cell_type": "code",
   "execution_count": 57,
   "outputs": [
    {
     "data": {
      "text/plain": "'value'"
     },
     "execution_count": 57,
     "metadata": {},
     "output_type": "execute_result"
    }
   ],
   "source": [
    "redisMaster.set('key', 'value')\n",
    "redisMaster.get('key')"
   ],
   "metadata": {
    "collapsed": false,
    "pycharm": {
     "name": "#%%\n"
    }
   }
  },
  {
   "cell_type": "code",
   "execution_count": 58,
   "outputs": [
    {
     "data": {
      "text/plain": "'value'"
     },
     "execution_count": 58,
     "metadata": {},
     "output_type": "execute_result"
    }
   ],
   "source": [
    "redisStandalone.set('key', 'value')\n",
    "redisStandalone.get('key')"
   ],
   "metadata": {
    "collapsed": false,
    "pycharm": {
     "name": "#%%\n"
    }
   }
  },
  {
   "cell_type": "code",
   "execution_count": 59,
   "outputs": [],
   "source": [
    "def teardown():\n",
    "    redisMaster.flushdb()\n",
    "    redisStandalone.flushdb()\n",
    "\n",
    "teardown()\n",
    "\n",
    "data = json.load(open('./data/games.json'))"
   ],
   "metadata": {
    "collapsed": false,
    "pycharm": {
     "name": "#%%\n"
    }
   }
  },
  {
   "cell_type": "code",
   "execution_count": 60,
   "outputs": [
    {
     "name": "stdout",
     "output_type": "stream",
     "text": [
      "20200 Galactic Bowling\n",
      "655370 Train Bandit\n",
      "1732930 Jolt Project\n",
      "1355720 Henosis™\n",
      "1139950 Two Weeks in Painland\n",
      "1469160 Wartune Reborn\n",
      "1659180 TD Worlds\n",
      "1968760 Legend of Rome - The Wrath of Mars\n",
      "1178150 MazM: Jekyll and Hyde\n"
     ]
    }
   ],
   "source": [
    "count = 0\n",
    "for id, info in data.items():\n",
    "    count += 1\n",
    "    if count == 10:\n",
    "        break\n",
    "    print(id, info['name'])"
   ],
   "metadata": {
    "collapsed": false,
    "pycharm": {
     "name": "#%%\n"
    }
   }
  },
  {
   "cell_type": "code",
   "execution_count": 61,
   "outputs": [],
   "source": [
    "def set_strings(client: redis.Redis):\n",
    "    for id, info in data.items():\n",
    "        client.set('string_games:'+id, info['name'])\n",
    "\n",
    "start = time.time()\n",
    "set_strings(redisStandalone)\n",
    "standalone = time.time() - start\n",
    "\n",
    "start = time.time()\n",
    "set_strings(redisMaster)\n",
    "master = time.time() - start\n",
    "\n",
    "teardown()"
   ],
   "metadata": {
    "collapsed": false,
    "pycharm": {
     "name": "#%%\n"
    }
   }
  },
  {
   "cell_type": "code",
   "execution_count": 62,
   "outputs": [
    {
     "name": "stdout",
     "output_type": "stream",
     "text": [
      "Strings: Standalone time: 30.617791891098022s, Cluster time: 34.321990728378296s\n"
     ]
    }
   ],
   "source": [
    "print(f\"Strings: Standalone time: {standalone}s, Cluster time: {master}s\")"
   ],
   "metadata": {
    "collapsed": false,
    "pycharm": {
     "name": "#%%\n"
    }
   }
  },
  {
   "cell_type": "code",
   "execution_count": 63,
   "outputs": [],
   "source": [
    "def set_unordered_map(client: redis.Redis):\n",
    "    for id, info in data.items():\n",
    "        client.hset('games_map', id, info['name'])\n",
    "\n",
    "start = time.time()\n",
    "set_unordered_map(redisStandalone)\n",
    "standalone = time.time() - start\n",
    "\n",
    "start = time.time()\n",
    "set_unordered_map(redisMaster)\n",
    "master = time.time() - start\n",
    "\n",
    "teardown()"
   ],
   "metadata": {
    "collapsed": false,
    "pycharm": {
     "name": "#%%\n"
    }
   }
  },
  {
   "cell_type": "code",
   "execution_count": 64,
   "outputs": [
    {
     "name": "stdout",
     "output_type": "stream",
     "text": [
      "Unordered map: standalone time: 32.000972032547s, Cluster time: 34.033629179000854s\n"
     ]
    }
   ],
   "source": [
    "print(f\"Unordered map: standalone time: {standalone}s, Cluster time: {master}s\")"
   ],
   "metadata": {
    "collapsed": false,
    "pycharm": {
     "name": "#%%\n"
    }
   }
  },
  {
   "cell_type": "code",
   "execution_count": 65,
   "outputs": [],
   "source": [
    "def set_ordered_map(client: redis.Redis):\n",
    "    for id, info in data.items():\n",
    "        client.zadd('games_map_ordered', {id: float(info['price'])})\n",
    "\n",
    "start = time.time()\n",
    "set_ordered_map(redisStandalone)\n",
    "standalone = time.time() - start\n",
    "\n",
    "start = time.time()\n",
    "set_ordered_map(redisMaster)\n",
    "master = time.time() - start\n",
    "\n",
    "teardown()"
   ],
   "metadata": {
    "collapsed": false,
    "pycharm": {
     "name": "#%%\n"
    }
   }
  },
  {
   "cell_type": "code",
   "execution_count": 66,
   "outputs": [
    {
     "name": "stdout",
     "output_type": "stream",
     "text": [
      "Ordered map: standalone time: 31.987530946731567s, Cluster time: 33.95587420463562s\n"
     ]
    }
   ],
   "source": [
    "print(f\"Ordered map: standalone time: {standalone}s, Cluster time: {master}s\")"
   ],
   "metadata": {
    "collapsed": false,
    "pycharm": {
     "name": "#%%\n"
    }
   }
  },
  {
   "cell_type": "code",
   "execution_count": 67,
   "outputs": [],
   "source": [
    "def set_list(client: redis.Redis):\n",
    "    for id, info in data.items():\n",
    "        client.lpush('ids', id)\n",
    "\n",
    "start = time.time()\n",
    "set_list(redisStandalone)\n",
    "standalone = time.time() - start\n",
    "\n",
    "start = time.time()\n",
    "set_list(redisMaster)\n",
    "master = time.time() - start\n",
    "\n",
    "teardown()"
   ],
   "metadata": {
    "collapsed": false,
    "pycharm": {
     "name": "#%%\n"
    }
   }
  },
  {
   "cell_type": "code",
   "execution_count": 68,
   "outputs": [
    {
     "name": "stdout",
     "output_type": "stream",
     "text": [
      "List: standalone time: 30.968968868255615s, Cluster time: 34.32690668106079s\n"
     ]
    }
   ],
   "source": [
    "print(f\"List: standalone time: {standalone}s, Cluster time: {master}s\")"
   ],
   "metadata": {
    "collapsed": false,
    "pycharm": {
     "name": "#%%\n"
    }
   }
  },
  {
   "cell_type": "code",
   "execution_count": null,
   "outputs": [],
   "source": [],
   "metadata": {
    "collapsed": false,
    "pycharm": {
     "name": "#%%\n"
    }
   }
  }
 ],
 "metadata": {
  "kernelspec": {
   "display_name": "Python 3",
   "language": "python",
   "name": "python3"
  },
  "language_info": {
   "codemirror_mode": {
    "name": "ipython",
    "version": 2
   },
   "file_extension": ".py",
   "mimetype": "text/x-python",
   "name": "python",
   "nbconvert_exporter": "python",
   "pygments_lexer": "ipython2",
   "version": "2.7.6"
  }
 },
 "nbformat": 4,
 "nbformat_minor": 0
}